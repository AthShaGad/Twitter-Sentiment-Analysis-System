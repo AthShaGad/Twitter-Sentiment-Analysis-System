{
  "nbformat": 4,
  "nbformat_minor": 0,
  "metadata": {
    "colab": {
      "provenance": []
    },
    "kernelspec": {
      "name": "python3",
      "display_name": "Python 3"
    },
    "language_info": {
      "name": "python"
    }
  },
  "cells": [
    {
      "cell_type": "markdown",
      "source": [
        "#IMPORT LIBRARIES"
      ],
      "metadata": {
        "id": "ojNRhM2lJM_w"
      }
    },
    {
      "cell_type": "code",
      "source": [
        "import pandas as pd\n",
        "import numpy as np\n",
        "import re\n",
        "from sklearn.model_selection import train_test_split\n",
        "from sklearn.preprocessing import LabelEncoder\n",
        "from sklearn.metrics import classification_report\n",
        "from nltk.corpus import stopwords\n",
        "from nltk.stem import PorterStemmer\n",
        "from sklearn.feature_extraction.text import TfidfVectorizer\n",
        "from sklearn.ensemble import RandomForestClassifier\n",
        "from sklearn.linear_model import LogisticRegression\n",
        "from keras.preprocessing.text import Tokenizer\n",
        "from keras_preprocessing.sequence import pad_sequences\n",
        "from keras.models import Sequential\n",
        "from keras.layers import Dense, Embedding, LSTM, SpatialDropout1D, Dropout, Bidirectional\n",
        "from sklearn.neighbors import KNeighborsClassifier"
      ],
      "metadata": {
        "id": "ztRnvoDMJQKO"
      },
      "execution_count": null,
      "outputs": []
    },
    {
      "cell_type": "markdown",
      "source": [
        "#LOADING THE DATASETS"
      ],
      "metadata": {
        "id": "w0HdiDMLNBO2"
      }
    },
    {
      "cell_type": "code",
      "source": [
        "labels=['Tweet_ID','Entity','Sentiment','Tweet_content']\n",
        "training_df=pd.read_csv(\"/content/twitter_training.csv\", names=labels)"
      ],
      "metadata": {
        "id": "s16yd9lZNGXM"
      },
      "execution_count": null,
      "outputs": []
    },
    {
      "cell_type": "markdown",
      "source": [
        "#EDA"
      ],
      "metadata": {
        "id": "rChXr6mvNxnf"
      }
    },
    {
      "cell_type": "code",
      "source": [
        "training_df.head()"
      ],
      "metadata": {
        "colab": {
          "base_uri": "https://localhost:8080/",
          "height": 206
        },
        "id": "mziI8FihNyx5",
        "outputId": "c8f979bc-c453-4092-945a-3e6720621d7b"
      },
      "execution_count": null,
      "outputs": [
        {
          "output_type": "execute_result",
          "data": {
            "text/plain": [
              "   Tweet_ID       Entity Sentiment  \\\n",
              "0      2401  Borderlands  Positive   \n",
              "1      2401  Borderlands  Positive   \n",
              "2      2401  Borderlands  Positive   \n",
              "3      2401  Borderlands  Positive   \n",
              "4      2401  Borderlands  Positive   \n",
              "\n",
              "                                       Tweet_content  \n",
              "0  im getting on borderlands and i will murder yo...  \n",
              "1  I am coming to the borders and I will kill you...  \n",
              "2  im getting on borderlands and i will kill you ...  \n",
              "3  im coming on borderlands and i will murder you...  \n",
              "4  im getting on borderlands 2 and i will murder ...  "
            ],
            "text/html": [
              "\n",
              "  <div id=\"df-3d5098e7-9bea-4107-8fd5-9de75f44d47a\">\n",
              "    <div class=\"colab-df-container\">\n",
              "      <div>\n",
              "<style scoped>\n",
              "    .dataframe tbody tr th:only-of-type {\n",
              "        vertical-align: middle;\n",
              "    }\n",
              "\n",
              "    .dataframe tbody tr th {\n",
              "        vertical-align: top;\n",
              "    }\n",
              "\n",
              "    .dataframe thead th {\n",
              "        text-align: right;\n",
              "    }\n",
              "</style>\n",
              "<table border=\"1\" class=\"dataframe\">\n",
              "  <thead>\n",
              "    <tr style=\"text-align: right;\">\n",
              "      <th></th>\n",
              "      <th>Tweet_ID</th>\n",
              "      <th>Entity</th>\n",
              "      <th>Sentiment</th>\n",
              "      <th>Tweet_content</th>\n",
              "    </tr>\n",
              "  </thead>\n",
              "  <tbody>\n",
              "    <tr>\n",
              "      <th>0</th>\n",
              "      <td>2401</td>\n",
              "      <td>Borderlands</td>\n",
              "      <td>Positive</td>\n",
              "      <td>im getting on borderlands and i will murder yo...</td>\n",
              "    </tr>\n",
              "    <tr>\n",
              "      <th>1</th>\n",
              "      <td>2401</td>\n",
              "      <td>Borderlands</td>\n",
              "      <td>Positive</td>\n",
              "      <td>I am coming to the borders and I will kill you...</td>\n",
              "    </tr>\n",
              "    <tr>\n",
              "      <th>2</th>\n",
              "      <td>2401</td>\n",
              "      <td>Borderlands</td>\n",
              "      <td>Positive</td>\n",
              "      <td>im getting on borderlands and i will kill you ...</td>\n",
              "    </tr>\n",
              "    <tr>\n",
              "      <th>3</th>\n",
              "      <td>2401</td>\n",
              "      <td>Borderlands</td>\n",
              "      <td>Positive</td>\n",
              "      <td>im coming on borderlands and i will murder you...</td>\n",
              "    </tr>\n",
              "    <tr>\n",
              "      <th>4</th>\n",
              "      <td>2401</td>\n",
              "      <td>Borderlands</td>\n",
              "      <td>Positive</td>\n",
              "      <td>im getting on borderlands 2 and i will murder ...</td>\n",
              "    </tr>\n",
              "  </tbody>\n",
              "</table>\n",
              "</div>\n",
              "      <button class=\"colab-df-convert\" onclick=\"convertToInteractive('df-3d5098e7-9bea-4107-8fd5-9de75f44d47a')\"\n",
              "              title=\"Convert this dataframe to an interactive table.\"\n",
              "              style=\"display:none;\">\n",
              "        \n",
              "  <svg xmlns=\"http://www.w3.org/2000/svg\" height=\"24px\"viewBox=\"0 0 24 24\"\n",
              "       width=\"24px\">\n",
              "    <path d=\"M0 0h24v24H0V0z\" fill=\"none\"/>\n",
              "    <path d=\"M18.56 5.44l.94 2.06.94-2.06 2.06-.94-2.06-.94-.94-2.06-.94 2.06-2.06.94zm-11 1L8.5 8.5l.94-2.06 2.06-.94-2.06-.94L8.5 2.5l-.94 2.06-2.06.94zm10 10l.94 2.06.94-2.06 2.06-.94-2.06-.94-.94-2.06-.94 2.06-2.06.94z\"/><path d=\"M17.41 7.96l-1.37-1.37c-.4-.4-.92-.59-1.43-.59-.52 0-1.04.2-1.43.59L10.3 9.45l-7.72 7.72c-.78.78-.78 2.05 0 2.83L4 21.41c.39.39.9.59 1.41.59.51 0 1.02-.2 1.41-.59l7.78-7.78 2.81-2.81c.8-.78.8-2.07 0-2.86zM5.41 20L4 18.59l7.72-7.72 1.47 1.35L5.41 20z\"/>\n",
              "  </svg>\n",
              "      </button>\n",
              "      \n",
              "  <style>\n",
              "    .colab-df-container {\n",
              "      display:flex;\n",
              "      flex-wrap:wrap;\n",
              "      gap: 12px;\n",
              "    }\n",
              "\n",
              "    .colab-df-convert {\n",
              "      background-color: #E8F0FE;\n",
              "      border: none;\n",
              "      border-radius: 50%;\n",
              "      cursor: pointer;\n",
              "      display: none;\n",
              "      fill: #1967D2;\n",
              "      height: 32px;\n",
              "      padding: 0 0 0 0;\n",
              "      width: 32px;\n",
              "    }\n",
              "\n",
              "    .colab-df-convert:hover {\n",
              "      background-color: #E2EBFA;\n",
              "      box-shadow: 0px 1px 2px rgba(60, 64, 67, 0.3), 0px 1px 3px 1px rgba(60, 64, 67, 0.15);\n",
              "      fill: #174EA6;\n",
              "    }\n",
              "\n",
              "    [theme=dark] .colab-df-convert {\n",
              "      background-color: #3B4455;\n",
              "      fill: #D2E3FC;\n",
              "    }\n",
              "\n",
              "    [theme=dark] .colab-df-convert:hover {\n",
              "      background-color: #434B5C;\n",
              "      box-shadow: 0px 1px 3px 1px rgba(0, 0, 0, 0.15);\n",
              "      filter: drop-shadow(0px 1px 2px rgba(0, 0, 0, 0.3));\n",
              "      fill: #FFFFFF;\n",
              "    }\n",
              "  </style>\n",
              "\n",
              "      <script>\n",
              "        const buttonEl =\n",
              "          document.querySelector('#df-3d5098e7-9bea-4107-8fd5-9de75f44d47a button.colab-df-convert');\n",
              "        buttonEl.style.display =\n",
              "          google.colab.kernel.accessAllowed ? 'block' : 'none';\n",
              "\n",
              "        async function convertToInteractive(key) {\n",
              "          const element = document.querySelector('#df-3d5098e7-9bea-4107-8fd5-9de75f44d47a');\n",
              "          const dataTable =\n",
              "            await google.colab.kernel.invokeFunction('convertToInteractive',\n",
              "                                                     [key], {});\n",
              "          if (!dataTable) return;\n",
              "\n",
              "          const docLinkHtml = 'Like what you see? Visit the ' +\n",
              "            '<a target=\"_blank\" href=https://colab.research.google.com/notebooks/data_table.ipynb>data table notebook</a>'\n",
              "            + ' to learn more about interactive tables.';\n",
              "          element.innerHTML = '';\n",
              "          dataTable['output_type'] = 'display_data';\n",
              "          await google.colab.output.renderOutput(dataTable, element);\n",
              "          const docLink = document.createElement('div');\n",
              "          docLink.innerHTML = docLinkHtml;\n",
              "          element.appendChild(docLink);\n",
              "        }\n",
              "      </script>\n",
              "    </div>\n",
              "  </div>\n",
              "  "
            ]
          },
          "metadata": {},
          "execution_count": 39
        }
      ]
    },
    {
      "cell_type": "code",
      "source": [
        "training_df.info()"
      ],
      "metadata": {
        "colab": {
          "base_uri": "https://localhost:8080/"
        },
        "id": "_ckIS0odOrFF",
        "outputId": "955a5290-0561-457b-c8fa-a65c50adc121"
      },
      "execution_count": null,
      "outputs": [
        {
          "output_type": "stream",
          "name": "stdout",
          "text": [
            "<class 'pandas.core.frame.DataFrame'>\n",
            "RangeIndex: 74682 entries, 0 to 74681\n",
            "Data columns (total 4 columns):\n",
            " #   Column         Non-Null Count  Dtype \n",
            "---  ------         --------------  ----- \n",
            " 0   Tweet_ID       74682 non-null  int64 \n",
            " 1   Entity         74682 non-null  object\n",
            " 2   Sentiment      74682 non-null  object\n",
            " 3   Tweet_content  73996 non-null  object\n",
            "dtypes: int64(1), object(3)\n",
            "memory usage: 2.3+ MB\n"
          ]
        }
      ]
    },
    {
      "cell_type": "code",
      "source": [
        "training_df[\"Sentiment\"].value_counts().plot(kind=\"bar\")"
      ],
      "metadata": {
        "colab": {
          "base_uri": "https://localhost:8080/",
          "height": 320
        },
        "id": "CgoxMa-HPFk6",
        "outputId": "533b89c1-3267-4b4e-c1c6-b4fc2080c845"
      },
      "execution_count": null,
      "outputs": [
        {
          "output_type": "execute_result",
          "data": {
            "text/plain": [
              "<matplotlib.axes._subplots.AxesSubplot at 0x7f915f757990>"
            ]
          },
          "metadata": {},
          "execution_count": 41
        },
        {
          "output_type": "display_data",
          "data": {
            "text/plain": [
              "<Figure size 432x288 with 1 Axes>"
            ],
            "image/png": "[encoded data removed]"
          },
          "metadata": {
            "needs_background": "light"
          }
        }
      ]
    },
    {
      "cell_type": "code",
      "source": [
        "training_df.isna().sum()"
      ],
      "metadata": {
        "colab": {
          "base_uri": "https://localhost:8080/"
        },
        "id": "mIFT03Y7S-rX",
        "outputId": "add533d2-a760-4b8d-fe55-03a646302d4b"
      },
      "execution_count": null,
      "outputs": [
        {
          "output_type": "execute_result",
          "data": {
            "text/plain": [
              "Tweet_ID           0\n",
              "Entity             0\n",
              "Sentiment          0\n",
              "Tweet_content    686\n",
              "dtype: int64"
            ]
          },
          "metadata": {},
          "execution_count": 42
        }
      ]
    },
    {
      "cell_type": "code",
      "source": [
        "training_df[\"Tweet_content\"].isna().sum()"
      ],
      "metadata": {
        "colab": {
          "base_uri": "https://localhost:8080/"
        },
        "id": "O5WAeAztTQVt",
        "outputId": "0966b712-3b68-442a-9dbc-92de60603e76"
      },
      "execution_count": null,
      "outputs": [
        {
          "output_type": "execute_result",
          "data": {
            "text/plain": [
              "686"
            ]
          },
          "metadata": {},
          "execution_count": 43
        }
      ]
    },
    {
      "cell_type": "code",
      "source": [
        "training_df.dropna(inplace=True)"
      ],
      "metadata": {
        "id": "YkUQR-HjTcgn"
      },
      "execution_count": null,
      "outputs": []
    },
    {
      "cell_type": "code",
      "source": [
        "training_df.isna().sum()"
      ],
      "metadata": {
        "colab": {
          "base_uri": "https://localhost:8080/"
        },
        "id": "6kNUP7MYTg9I",
        "outputId": "fc9b884f-0149-41c9-8c66-d38f1162cd7f"
      },
      "execution_count": null,
      "outputs": [
        {
          "output_type": "execute_result",
          "data": {
            "text/plain": [
              "Tweet_ID         0\n",
              "Entity           0\n",
              "Sentiment        0\n",
              "Tweet_content    0\n",
              "dtype: int64"
            ]
          },
          "metadata": {},
          "execution_count": 45
        }
      ]
    },
    {
      "cell_type": "code",
      "source": [
        "training_df.duplicated().sum()"
      ],
      "metadata": {
        "colab": {
          "base_uri": "https://localhost:8080/"
        },
        "id": "I0P-QdKYTqNY",
        "outputId": "2b4bbf72-b00e-4a37-f145-c23165e5dd52"
      },
      "execution_count": null,
      "outputs": [
        {
          "output_type": "execute_result",
          "data": {
            "text/plain": [
              "2340"
            ]
          },
          "metadata": {},
          "execution_count": 46
        }
      ]
    },
    {
      "cell_type": "code",
      "source": [
        "training_df.drop_duplicates(inplace=True)"
      ],
      "metadata": {
        "id": "eE_Cl-1ZTyUk"
      },
      "execution_count": null,
      "outputs": []
    },
    {
      "cell_type": "code",
      "source": [
        "training_df.duplicated().sum()"
      ],
      "metadata": {
        "colab": {
          "base_uri": "https://localhost:8080/"
        },
        "id": "0yjwmMD8T4rl",
        "outputId": "42c70cc5-be9b-4e43-a122-4f7e8850dc5e"
      },
      "execution_count": null,
      "outputs": [
        {
          "output_type": "execute_result",
          "data": {
            "text/plain": [
              "0"
            ]
          },
          "metadata": {},
          "execution_count": 48
        }
      ]
    },
    {
      "cell_type": "code",
      "source": [
        "training_df[\"Sentiment\"].value_counts().plot(kind='pie', colors=['Red', 'Green','Gray', 'Gray'])"
      ],
      "metadata": {
        "colab": {
          "base_uri": "https://localhost:8080/",
          "height": 265
        },
        "id": "0Pat0mUqT-RI",
        "outputId": "8275a50a-55e1-44b2-ced5-dda2372f068c"
      },
      "execution_count": null,
      "outputs": [
        {
          "output_type": "execute_result",
          "data": {
            "text/plain": [
              "<matplotlib.axes._subplots.AxesSubplot at 0x7f915e93d710>"
            ]
          },
          "metadata": {},
          "execution_count": 49
        },
        {
          "output_type": "display_data",
          "data": {
            "text/plain": [
              "<Figure size 432x288 with 1 Axes>"
            ],
            "image/png": "[encoded data removed]"
          },
          "metadata": {}
        }
      ]
    },
    {
      "cell_type": "markdown",
      "source": [
        "#PRE-PROCESSING"
      ],
      "metadata": {
        "id": "mZFtvZLmiYFl"
      }
    },
    {
      "cell_type": "markdown",
      "source": [
        "One-Hot Encoding for the Sentiment column"
      ],
      "metadata": {
        "id": "wdcAJsZIi7gp"
      }
    },
    {
      "cell_type": "code",
      "source": [
        "training_df[\"Sentiment\"]=LabelEncoder().fit_transform(training_df[\"Sentiment\"])\n",
        "training_df[\"Sentiment\"]"
      ],
      "metadata": {
        "colab": {
          "base_uri": "https://localhost:8080/"
        },
        "id": "NCafYDJoicC0",
        "outputId": "3b00b781-ae0b-4405-e0f4-c9f484ba3e7f"
      },
      "execution_count": null,
      "outputs": [
        {
          "output_type": "execute_result",
          "data": {
            "text/plain": [
              "0        3\n",
              "1        3\n",
              "2        3\n",
              "3        3\n",
              "4        3\n",
              "        ..\n",
              "74677    3\n",
              "74678    3\n",
              "74679    3\n",
              "74680    3\n",
              "74681    3\n",
              "Name: Sentiment, Length: 73996, dtype: int64"
            ]
          },
          "metadata": {},
          "execution_count": 5
        }
      ]
    },
    {
      "cell_type": "markdown",
      "source": [
        "Splitting the dataset into various parts for easier access"
      ],
      "metadata": {
        "id": "uyfkhaT2j5BN"
      }
    },
    {
      "cell_type": "code",
      "source": [
        "training_tweets=training_df[\"Tweet_content\"]\n",
        "training_sentiments_of_tweets=training_df[\"Sentiment\"]"
      ],
      "metadata": {
        "id": "8WwnpDEuj-KM"
      },
      "execution_count": null,
      "outputs": []
    },
    {
      "cell_type": "markdown",
      "source": [
        "Removing User Tags, HashTags, URLs from tweets"
      ],
      "metadata": {
        "id": "TCXOp_tskUFV"
      }
    },
    {
      "cell_type": "code",
      "source": [
        "def remove_tags_hashtags_links(tweet):\n",
        "  return ' '.join(re.sub(\"(@[A-Za-z0-9]+)|([^0-9A-Za-z \\t])|(pic.twitter.com\\S+)|(\\w+:\\/\\/\\S+)|(http\\S+)\",\" \",tweet).split())\n",
        "\n",
        "training_tweets=[remove_tags_hashtags_links(tweet) for tweet in training_tweets]"
      ],
      "metadata": {
        "id": "MB2oLIOujPBc"
      },
      "execution_count": null,
      "outputs": []
    },
    {
      "cell_type": "code",
      "source": [
        "training_tweets[:10]"
      ],
      "metadata": {
        "colab": {
          "base_uri": "https://localhost:8080/"
        },
        "id": "4lQOeMKdkw16",
        "outputId": "24ec4918-177b-46f0-df0e-4f57236072bc"
      },
      "execution_count": null,
      "outputs": [
        {
          "output_type": "execute_result",
          "data": {
            "text/plain": [
              "['im getting on borderlands and i will murder you all',\n",
              " 'I am coming to the borders and I will kill you all',\n",
              " 'im getting on borderlands and i will kill you all',\n",
              " 'im coming on borderlands and i will murder you all',\n",
              " 'im getting on borderlands 2 and i will murder you me all',\n",
              " 'im getting into borderlands and i can murder you all',\n",
              " 'So I spent a few hours making something for fun If you don t know I am a HUGE fan and Maya is one of my favorite characters So I decided to make myself a wallpaper for my PC Here is the original image versus the creation I made Enjoy',\n",
              " 'So I spent a couple of hours doing something for fun If you don t know that I m a huge Borderlands fan and Maya is one of my favorite characters I decided to make a wallpaper for my PC Here s the original picture compared to the creation I made Have fun pic twitter com mLsI5wf9Jg',\n",
              " 'So I spent a few hours doing something for fun If you don t know I m a HUGE Borderlands fan and Maya is one of my favorite characters',\n",
              " 'So I spent a few hours making something for fun If you don t know I am a HUGE RhandlerR fan and Maya is one of my favorite characters So I decided to make myself a wallpaper for my PC Here is the original image versus the creation I made Enjoy']"
            ]
          },
          "metadata": {},
          "execution_count": 53
        }
      ]
    },
    {
      "cell_type": "markdown",
      "source": [
        "Stop word removal"
      ],
      "metadata": {
        "id": "1Ec0icK7nl_7"
      }
    },
    {
      "cell_type": "code",
      "source": [
        "import nltk\n",
        "nltk.download('stopwords')"
      ],
      "metadata": {
        "colab": {
          "base_uri": "https://localhost:8080/"
        },
        "id": "vIGVY6KJi6F3",
        "outputId": "fbecd556-b9a5-41fd-c3ca-31fcdaa62d86"
      },
      "execution_count": null,
      "outputs": [
        {
          "output_type": "stream",
          "name": "stderr",
          "text": [
            "[nltk_data] Downloading package stopwords to /root/nltk_data...\n",
            "[nltk_data]   Unzipping corpora/stopwords.zip.\n"
          ]
        },
        {
          "output_type": "execute_result",
          "data": {
            "text/plain": [
              "True"
            ]
          },
          "metadata": {},
          "execution_count": 8
        }
      ]
    },
    {
      "cell_type": "code",
      "source": [
        "stop_words=stopwords.words(\"english\")\n",
        "def remove_stop_words_from_tweets(tweet):\n",
        "  return \" \".join([word for word in tweet.split(sep=\" \") if word not in stop_words])\n",
        "training_tweets=[remove_stop_words_from_tweets(tweet) for tweet in training_tweets]"
      ],
      "metadata": {
        "id": "rcYmg7BOnoVS"
      },
      "execution_count": null,
      "outputs": []
    },
    {
      "cell_type": "code",
      "source": [
        "training_tweets[:10]"
      ],
      "metadata": {
        "colab": {
          "base_uri": "https://localhost:8080/"
        },
        "id": "XmHFWmfMpBeX",
        "outputId": "29168355-a4a8-4c27-bdb2-abc2cf6e9d10"
      },
      "execution_count": null,
      "outputs": [
        {
          "output_type": "execute_result",
          "data": {
            "text/plain": [
              "['im getting borderlands murder',\n",
              " 'I coming borders I kill',\n",
              " 'im getting borderlands kill',\n",
              " 'im coming borderlands murder',\n",
              " 'im getting borderlands 2 murder',\n",
              " 'im getting borderlands murder',\n",
              " 'So I spent hours making something fun If know I HUGE fan Maya one favorite characters So I decided make wallpaper PC Here original image versus creation I made Enjoy',\n",
              " 'So I spent couple hours something fun If know I huge Borderlands fan Maya one favorite characters I decided make wallpaper PC Here original picture compared creation I made Have fun pic twitter com mLsI5wf9Jg',\n",
              " 'So I spent hours something fun If know I HUGE Borderlands fan Maya one favorite characters',\n",
              " 'So I spent hours making something fun If know I HUGE RhandlerR fan Maya one favorite characters So I decided make wallpaper PC Here original image versus creation I made Enjoy']"
            ]
          },
          "metadata": {},
          "execution_count": 56
        }
      ]
    },
    {
      "cell_type": "markdown",
      "source": [
        "Stemming the words"
      ],
      "metadata": {
        "id": "7K7-EH2tphz7"
      }
    },
    {
      "cell_type": "code",
      "source": [
        "def stem_the_word(tweet):\n",
        "  return \" \".join([PorterStemmer().stem(word) for word in tweet.split(sep=' ')])\n",
        "training_tweets=[stem_the_word(tweet) for tweet in training_tweets]"
      ],
      "metadata": {
        "id": "BOSOq9NzpjZw"
      },
      "execution_count": null,
      "outputs": []
    },
    {
      "cell_type": "code",
      "source": [
        "training_tweets[:10]"
      ],
      "metadata": {
        "colab": {
          "base_uri": "https://localhost:8080/"
        },
        "id": "mEXAXKRXq8DF",
        "outputId": "897ac9bd-37be-4e61-8658-e2b22f09fcdd"
      },
      "execution_count": null,
      "outputs": [
        {
          "output_type": "execute_result",
          "data": {
            "text/plain": [
              "<10x23571 sparse matrix of type '<class 'numpy.float64'>'\n",
              "\twith 116 stored elements in Compressed Sparse Row format>"
            ]
          },
          "metadata": {},
          "execution_count": 75
        }
      ]
    },
    {
      "cell_type": "markdown",
      "source": [
        "TF-IDF Vectorization"
      ],
      "metadata": {
        "id": "DuQk_KbyrBa9"
      }
    },
    {
      "cell_type": "code",
      "source": [
        "tfidf=TfidfVectorizer()\n",
        "tf_idf_training_tweets=tfidf.fit_transform(training_tweets)"
      ],
      "metadata": {
        "id": "GT1vc-_KrEdV"
      },
      "execution_count": null,
      "outputs": []
    },
    {
      "cell_type": "markdown",
      "source": [
        "Split the data"
      ],
      "metadata": {
        "id": "2-2MXm2stm9k"
      }
    },
    {
      "cell_type": "code",
      "source": [
        "X_train, X_test, y_train, y_test=train_test_split(tf_idf_training_tweets, training_sentiments_of_tweets, train_size=0.75)"
      ],
      "metadata": {
        "id": "JvAKP1obtoYf"
      },
      "execution_count": null,
      "outputs": []
    },
    {
      "cell_type": "markdown",
      "source": [
        "#MODELS"
      ],
      "metadata": {
        "id": "Q52NcIPiuTxQ"
      }
    },
    {
      "cell_type": "markdown",
      "source": [
        "Random Forest Classifier"
      ],
      "metadata": {
        "id": "DeasIKlShe2_"
      }
    },
    {
      "cell_type": "code",
      "source": [
        "text_classifier=RandomForestClassifier(n_estimators=500, random_state=0)\n",
        "text_classifier.fit(X_train, y_train)\n",
        "y_pred=text_classifier.predict(X_test)\n",
        "print(classification_report(y_test,y_pred))"
      ],
      "metadata": {
        "colab": {
          "base_uri": "https://localhost:8080/"
        },
        "id": "S95pgJQauUqY",
        "outputId": "25fb8c02-1975-4335-b9dc-ebb7ee46f755"
      },
      "execution_count": null,
      "outputs": [
        {
          "output_type": "stream",
          "name": "stdout",
          "text": [
            "              precision    recall  f1-score   support\n",
            "\n",
            "           0       0.96      0.84      0.90      3179\n",
            "           1       0.91      0.94      0.93      5376\n",
            "           2       0.95      0.90      0.92      4462\n",
            "           3       0.86      0.94      0.90      4897\n",
            "\n",
            "    accuracy                           0.91     17914\n",
            "   macro avg       0.92      0.91      0.91     17914\n",
            "weighted avg       0.92      0.91      0.91     17914\n",
            "\n"
          ]
        }
      ]
    },
    {
      "cell_type": "markdown",
      "source": [
        "Logistic Regression"
      ],
      "metadata": {
        "id": "HfK6XBzkhidL"
      }
    },
    {
      "cell_type": "code",
      "source": [
        "lr_classifier = LogisticRegression(random_state = 0)\n",
        "lr_classifier.fit(X_train, y_train)\n",
        "y_pred = lr_classifier.predict(X_test)\n",
        "print(classification_report(y_test,y_pred))"
      ],
      "metadata": {
        "colab": {
          "base_uri": "https://localhost:8080/"
        },
        "id": "Sf4Rmbf3h6T3",
        "outputId": "69b7d968-20f0-401a-b947-bad3cb8e1cb0"
      },
      "execution_count": null,
      "outputs": [
        {
          "output_type": "stream",
          "name": "stdout",
          "text": [
            "              precision    recall  f1-score   support\n",
            "\n",
            "           0       0.77      0.59      0.67      3179\n",
            "           1       0.72      0.83      0.77      5376\n",
            "           2       0.77      0.70      0.73      4462\n",
            "           3       0.74      0.77      0.75      4897\n",
            "\n",
            "    accuracy                           0.74     17914\n",
            "   macro avg       0.75      0.72      0.73     17914\n",
            "weighted avg       0.74      0.74      0.74     17914\n",
            "\n"
          ]
        },
        {
          "output_type": "stream",
          "name": "stderr",
          "text": [
            "/usr/local/lib/python3.7/dist-packages/sklearn/linear_model/_logistic.py:818: ConvergenceWarning: lbfgs failed to converge (status=1):\n",
            "STOP: TOTAL NO. of ITERATIONS REACHED LIMIT.\n",
            "\n",
            "Increase the number of iterations (max_iter) or scale the data as shown in:\n",
            "    https://scikit-learn.org/stable/modules/preprocessing.html\n",
            "Please also refer to the documentation for alternative solver options:\n",
            "    https://scikit-learn.org/stable/modules/linear_model.html#logistic-regression\n",
            "  extra_warning_msg=_LOGISTIC_SOLVER_CONVERGENCE_MSG,\n"
          ]
        }
      ]
    },
    {
      "cell_type": "markdown",
      "source": [
        "LSTM"
      ],
      "metadata": {
        "id": "zYF28Skqn9_4"
      }
    },
    {
      "cell_type": "markdown",
      "source": [
        "Tokenizing the data"
      ],
      "metadata": {
        "id": "dCzX9FLVsBkm"
      }
    },
    {
      "cell_type": "code",
      "source": [
        "tokenizer = Tokenizer(num_words=8000, split=' ') \n",
        "tokenizer.fit_on_texts(training_tweets)\n",
        "X = tokenizer.texts_to_sequences(training_tweets)\n",
        "X = pad_sequences(X, maxlen=300)"
      ],
      "metadata": {
        "id": "dwyeDxXUsAg5"
      },
      "execution_count": null,
      "outputs": []
    },
    {
      "cell_type": "code",
      "source": [
        "X_train, X_test, y_train, y_test = train_test_split(X,training_sentiments_of_tweets, train_size = 0.8)"
      ],
      "metadata": {
        "id": "ClHc7xAItlJp"
      },
      "execution_count": null,
      "outputs": []
    },
    {
      "cell_type": "code",
      "source": [
        "model_lstm = Sequential()\n",
        "model_lstm.add(Embedding(input_dim = 8000, output_dim = 128, input_length = 300))\n",
        "model_lstm.add(SpatialDropout1D(0.3))\n",
        "model_lstm.add(LSTM(128, dropout = 0.3, recurrent_dropout = 0.3))\n",
        "model_lstm.add(Dense(128, activation = 'relu'))\n",
        "model_lstm.add(Dropout(0.3))\n",
        "model_lstm.add(Dense(5, activation = 'softmax'))\n",
        "model_lstm.compile(loss='sparse_categorical_crossentropy', optimizer='Adam', metrics=['accuracy'])\n",
        "print(model_lstm.summary())\n",
        "\n",
        "model_lstm.fit(X_train, y_train, epochs=10, batch_size=512, verbose='auto')\n",
        "model_lstm.evaluate(X_test,y_test)"
      ],
      "metadata": {
        "colab": {
          "base_uri": "https://localhost:8080/"
        },
        "id": "hoWckVIZpPbg",
        "outputId": "5795cca6-5257-4094-de36-9f276cedd76c"
      },
      "execution_count": null,
      "outputs": [
        {
          "output_type": "stream",
          "name": "stdout",
          "text": [
            "Model: \"sequential_8\"\n",
            "_________________________________________________________________\n",
            " Layer (type)                Output Shape              Param #   \n",
            "=================================================================\n",
            " embedding_8 (Embedding)     (None, 300, 128)          1024000   \n",
            "                                                                 \n",
            " spatial_dropout1d_6 (Spatia  (None, 300, 128)         0         \n",
            " lDropout1D)                                                     \n",
            "                                                                 \n",
            " lstm_8 (LSTM)               (None, 128)               131584    \n",
            "                                                                 \n",
            " dense_12 (Dense)            (None, 128)               16512     \n",
            "                                                                 \n",
            " dropout_4 (Dropout)         (None, 128)               0         \n",
            "                                                                 \n",
            " dense_13 (Dense)            (None, 5)                 645       \n",
            "                                                                 \n",
            "=================================================================\n",
            "Total params: 1,172,741\n",
            "Trainable params: 1,172,741\n",
            "Non-trainable params: 0\n",
            "_________________________________________________________________\n",
            "None\n",
            "Epoch 1/10\n",
            "116/116 [==============================] - 461s 4s/step - loss: 1.2789 - accuracy: 0.4188\n",
            "Epoch 2/10\n",
            "116/116 [==============================] - 449s 4s/step - loss: 0.8497 - accuracy: 0.6705\n",
            "Epoch 3/10\n",
            "116/116 [==============================] - 448s 4s/step - loss: 0.6779 - accuracy: 0.7462\n",
            "Epoch 4/10\n",
            "116/116 [==============================] - 451s 4s/step - loss: 0.5976 - accuracy: 0.7770\n",
            "Epoch 5/10\n",
            "116/116 [==============================] - 446s 4s/step - loss: 0.5436 - accuracy: 0.7961\n",
            "Epoch 6/10\n",
            "116/116 [==============================] - 447s 4s/step - loss: 0.4980 - accuracy: 0.8144\n",
            "Epoch 7/10\n",
            "116/116 [==============================] - 449s 4s/step - loss: 0.4572 - accuracy: 0.8308\n",
            "Epoch 8/10\n",
            "116/116 [==============================] - 447s 4s/step - loss: 0.4217 - accuracy: 0.8408\n",
            "Epoch 9/10\n",
            "116/116 [==============================] - 450s 4s/step - loss: 0.3944 - accuracy: 0.8502\n",
            "Epoch 10/10\n",
            "116/116 [==============================] - 451s 4s/step - loss: 0.3732 - accuracy: 0.8578\n",
            "463/463 [==============================] - 33s 70ms/step - loss: 0.5287 - accuracy: 0.8161\n"
          ]
        },
        {
          "output_type": "execute_result",
          "data": {
            "text/plain": [
              "[0.5287145376205444, 0.8160811066627502]"
            ]
          },
          "metadata": {},
          "execution_count": 99
        }
      ]
    },
    {
      "cell_type": "markdown",
      "source": [
        "Bi-Directional LSTM"
      ],
      "metadata": {
        "id": "os6-X9OsofA8"
      }
    },
    {
      "cell_type": "markdown",
      "source": [
        "It maximizes the order sensitivity of the RNNs: essentially it consists of two RNNs (LSTMs or GRUs) that process the input sequence in one different direction to finally merge representations. By doing this, they’re able to catch more complex patterns than a single RNN layer would catch. In other words, one of the layers interprets the sequences in chronological order and the second one do so in anti-chronological order, that’s why Bidirectional RNNs are widely used, because they offer greater performance than regular RNNs."
      ],
      "metadata": {
        "id": "ucl9hfH0otB8"
      }
    },
    {
      "cell_type": "code",
      "source": [
        "bid_lstm = Sequential()\n",
        "bid_lstm.add(Embedding(input_dim=8000, output_dim=128, input_length=300))\n",
        "bid_lstm.add(Bidirectional(LSTM(128,dropout=0.3)))\n",
        "bid_lstm.add(Dense(128, activation = 'relu'))\n",
        "bid_lstm.add(Dropout(0.3))\n",
        "bid_lstm.add(Dense(5, activation = 'softmax'))\n",
        "bid_lstm.compile(loss='sparse_categorical_crossentropy', optimizer='Adam', metrics=['accuracy'])\n",
        "print(bid_lstm.summary())\n",
        "\n",
        "bid_lstm.fit(X_train, y_train, epochs=10, batch_size=512, verbose='auto')\n",
        "bid_lstm.evaluate(X_test,y_test)"
      ],
      "metadata": {
        "colab": {
          "base_uri": "https://localhost:8080/"
        },
        "id": "xwuQqLQOomqN",
        "outputId": "8081319c-00c9-4290-cab0-a4ccd63228f1"
      },
      "execution_count": null,
      "outputs": [
        {
          "output_type": "stream",
          "name": "stdout",
          "text": [
            "Model: \"sequential\"\n",
            "_________________________________________________________________\n",
            " Layer (type)                Output Shape              Param #   \n",
            "=================================================================\n",
            " embedding (Embedding)       (None, 300, 128)          1024000   \n",
            "                                                                 \n",
            " bidirectional (Bidirectiona  (None, 256)              263168    \n",
            " l)                                                              \n",
            "                                                                 \n",
            " dense (Dense)               (None, 128)               32896     \n",
            "                                                                 \n",
            " dropout (Dropout)           (None, 128)               0         \n",
            "                                                                 \n",
            " dense_1 (Dense)             (None, 5)                 645       \n",
            "                                                                 \n",
            "=================================================================\n",
            "Total params: 1,320,709\n",
            "Trainable params: 1,320,709\n",
            "Non-trainable params: 0\n",
            "_________________________________________________________________\n",
            "None\n",
            "Epoch 1/10\n",
            "116/116 [==============================] - 866s 7s/step - loss: 1.2012 - accuracy: 0.4723\n",
            "Epoch 2/10\n",
            "116/116 [==============================] - 998s 9s/step - loss: 0.7802 - accuracy: 0.6996\n",
            "Epoch 3/10\n",
            "116/116 [==============================] - 899s 8s/step - loss: 0.6132 - accuracy: 0.7699\n",
            "Epoch 4/10\n",
            "116/116 [==============================] - 812s 7s/step - loss: 0.5243 - accuracy: 0.8049\n",
            "Epoch 5/10\n",
            "116/116 [==============================] - 823s 7s/step - loss: 0.4569 - accuracy: 0.8298\n",
            "Epoch 6/10\n",
            "116/116 [==============================] - 872s 7s/step - loss: 0.4057 - accuracy: 0.8492\n",
            "Epoch 7/10\n",
            "116/116 [==============================] - 781s 7s/step - loss: 0.3728 - accuracy: 0.8586\n",
            "Epoch 8/10\n",
            "116/116 [==============================] - 778s 7s/step - loss: 0.3416 - accuracy: 0.8711\n",
            "Epoch 9/10\n",
            "116/116 [==============================] - 790s 7s/step - loss: 0.3179 - accuracy: 0.8813\n",
            "Epoch 10/10\n",
            "116/116 [==============================] - 783s 7s/step - loss: 0.3040 - accuracy: 0.8845\n",
            "463/463 [==============================] - 142s 304ms/step - loss: 0.5442 - accuracy: 0.8201\n"
          ]
        },
        {
          "output_type": "execute_result",
          "data": {
            "text/plain": [
              "[0.5442230105400085, 0.8201351165771484]"
            ]
          },
          "metadata": {},
          "execution_count": 16
        }
      ]
    },
    {
      "cell_type": "markdown",
      "source": [
        "KNN"
      ],
      "metadata": {
        "id": "rUiogSLdGYCv"
      }
    },
    {
      "cell_type": "code",
      "source": [
        "import numpy as np \n",
        "import pandas as pd\n",
        "\n",
        "import re\n",
        "import string   \n",
        "from wordcloud import WordCloud\n",
        "from nltk.tokenize import sent_tokenize, word_tokenize\n",
        "from nltk.corpus import stopwords\n",
        "from nltk.stem import WordNetLemmatizer, PorterStemmer\n",
        "from nltk import pos_tag, ne_chunk\n",
        "from nltk.chunk import tree2conlltags\n",
        "\n",
        "import seaborn as sns\n",
        "import matplotlib.pyplot as plt\n",
        "from collections import Counter\n",
        "\n",
        "import nltk\n",
        "nltk.download('stopwords')\n",
        "nltk.download('punkt')\n",
        "nltk.download('wordnet')\n",
        "nltk.download('averaged_perceptron_tagger')\n",
        "nltk.download('maxent_ne_chunker')\n",
        "nltk.download('words')\n",
        "\n",
        "import warnings\n",
        "warnings.filterwarnings(\"ignore\")\n",
        "\n",
        "labels = [\"Twitter_ID\",\"Entity\",\"Sentiment\",\"Tweet_content\"]\n",
        "data = pd.read_csv(\"/content/twitter_training.csv\",names=labels,header=None)\n",
        "\n",
        "training_df = data[[\"Tweet_content\",\"Sentiment\"]]\n",
        "training_df= training_df.drop_duplicates()\n",
        "\n",
        "sentiment = []\n",
        "\n",
        "for i in training_df[\"Sentiment\"]:\n",
        "    if i == \"Positive\":\n",
        "        sentiment.append(1)\n",
        "    elif (i == \"Irrelevant\") or (i == \"Neutral\"):\n",
        "        sentiment.append(0)\n",
        "    else:\n",
        "        sentiment.append(-1)\n",
        "training_df[\"Sentiment\"] = sentiment\n",
        "\n",
        "stop_words = set(stopwords.words(\"english\"))\n",
        "training_df[\"Tweet_content\"] = training_df[\"Tweet_content\"].str.replace(\"\\d\",\"\")\n",
        "\n",
        "import nltk\n",
        "nltk.download('omw-1.4')\n",
        "\n",
        "def cleaner(data):\n",
        "\n",
        "    tokens = word_tokenize(str(data).replace(\"'\", \"\").lower()) \n",
        "    without_punc = [w for w in tokens if w.isalpha()]\n",
        "    without_sw = [t for t in without_punc if t not in stop_words]\n",
        "    Tweet_content_len = [WordNetLemmatizer().lemmatize(t) for t in without_sw]\n",
        "    Tweet_content_cleaned = [PorterStemmer().stem(w) for w in Tweet_content_len]\n",
        "    return \" \".join(Tweet_content_cleaned)\n",
        "\n",
        "training_df[\"Tweet_content\"] = training_df[\"Tweet_content\"].apply(cleaner)\n",
        "training_df[\"Tweet_content\"].head()\n",
        "\n",
        "training_df[\"Tweet_content\"]=training_df[\"Tweet_content\"].str.replace(\"im\",\"\")\n",
        "training_df[\"Tweet_content\"].head()\n",
        "\n",
        "from sklearn.model_selection import train_test_split\n",
        "from sklearn.metrics import confusion_matrix,classification_report,accuracy_score\n",
        "\n",
        "X = training_df[\"Tweet_content\"]\n",
        "y = training_df[\"Sentiment\"]\n",
        "\n",
        "X_train,X_test,y_train,y_test = train_test_split(X,y, test_size = 0.30,random_state= 42,stratify = y)\n",
        "\n",
        "from sklearn.feature_extraction.text import CountVectorizer\n",
        "\n",
        "vt = CountVectorizer(analyzer=\"word\")\n",
        "X_train_count = vt.fit_transform(X_train)\n",
        "X_test_count = vt.transform(X_test)\n",
        "\n",
        "from sklearn.neighbors import KNeighborsClassifier\n",
        "knn = KNeighborsClassifier()\n",
        "knn_model = knn.fit(X_train_count,y_train)\n",
        "\n",
        "knn_pred = knn_model.predict(X_test_count)\n",
        "\n",
        "\n",
        "print(classification_report(y_test,knn_pred))\n"
      ],
      "metadata": {
        "id": "wkpmvnrhGYwc",
        "colab": {
          "base_uri": "https://localhost:8080/"
        },
        "outputId": "bd42ee1d-3472-49a1-c3ea-8d2a463dfeb6"
      },
      "execution_count": null,
      "outputs": [
        {
          "output_type": "stream",
          "name": "stderr",
          "text": [
            "[nltk_data] Downloading package stopwords to /root/nltk_data...\n",
            "[nltk_data]   Package stopwords is already up-to-date!\n",
            "[nltk_data] Downloading package punkt to /root/nltk_data...\n",
            "[nltk_data]   Package punkt is already up-to-date!\n",
            "[nltk_data] Downloading package wordnet to /root/nltk_data...\n",
            "[nltk_data]   Package wordnet is already up-to-date!\n",
            "[nltk_data] Downloading package averaged_perceptron_tagger to\n",
            "[nltk_data]     /root/nltk_data...\n",
            "[nltk_data]   Package averaged_perceptron_tagger is already up-to-\n",
            "[nltk_data]       date!\n",
            "[nltk_data] Downloading package maxent_ne_chunker to\n",
            "[nltk_data]     /root/nltk_data...\n",
            "[nltk_data]   Package maxent_ne_chunker is already up-to-date!\n",
            "[nltk_data] Downloading package words to /root/nltk_data...\n",
            "[nltk_data]   Package words is already up-to-date!\n",
            "[nltk_data] Downloading package omw-1.4 to /root/nltk_data...\n"
          ]
        },
        {
          "output_type": "stream",
          "name": "stdout",
          "text": [
            "              precision    recall  f1-score   support\n",
            "\n",
            "          -1       0.81      0.87      0.84      6371\n",
            "           0       0.86      0.81      0.84      8819\n",
            "           1       0.81      0.81      0.81      5742\n",
            "\n",
            "    accuracy                           0.83     20932\n",
            "   macro avg       0.83      0.83      0.83     20932\n",
            "weighted avg       0.83      0.83      0.83     20932\n",
            "\n"
          ]
        }
      ]
    }
  ]
}